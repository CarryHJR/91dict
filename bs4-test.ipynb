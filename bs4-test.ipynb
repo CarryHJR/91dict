{
 "cells": [
  {
   "cell_type": "code",
   "execution_count": 45,
   "metadata": {},
   "outputs": [],
   "source": [
    "import matplotlib.pyplot as plt\n",
    "%matplotlib inline\n",
    "import numpy as np\n",
    "import os\n",
    "\n",
    "from IPython.core.interactiveshell import InteractiveShell\n",
    "InteractiveShell.ast_node_interactivity = \"all\"\n",
    "\n",
    "%load_ext autoreload\n",
    "%autoreload 2"
   ]
  },
  {
   "cell_type": "code",
   "execution_count": 2,
   "metadata": {},
   "outputs": [],
   "source": [
    "import requests"
   ]
  },
  {
   "cell_type": "code",
   "execution_count": 39,
   "metadata": {},
   "outputs": [],
   "source": [
    "word = \"desk\"\n",
    "url = 'http://www.91dict.com/words?w=' + word\n",
    "res = requests.get(url)\n",
    "res.encoding = 'utf-8'"
   ]
  },
  {
   "cell_type": "markdown",
   "metadata": {},
   "source": [
    "用bs4 or lxml - 基本上同一个网站的网页组织结构都有细微不同，除了是政府的网页老古董，一般多会因为js这里多个li那里少个div, 用bs4稳一点\n",
    "\n",
    "lxml.etree是用来解析网页的，和beautifulsoup中的html.parser或者lxml解析是一个作用\n",
    "\n",
    "\n",
    "1. 用id配合第一个ul 获取li 的集合\n",
    "2. 对于每一个li再获取audio img text\n",
    "\n",
    "https://cuiqingcai.com/1319.html\n",
    "https://www.twblogs.net/a/5d6dac19bd9eee5327ff21aa"
   ]
  },
  {
   "cell_type": "code",
   "execution_count": 38,
   "metadata": {},
   "outputs": [],
   "source": [
    "from bs4 import BeautifulSoup"
   ]
  },
  {
   "cell_type": "code",
   "execution_count": 40,
   "metadata": {},
   "outputs": [],
   "source": [
    "soup = BeautifulSoup(res.text)"
   ]
  },
  {
   "cell_type": "code",
   "execution_count": 62,
   "metadata": {},
   "outputs": [
    {
     "name": "stdout",
     "output_type": "stream",
     "text": [
      "0\n"
     ]
    },
    {
     "data": {
      "text/plain": [
       "'https://img.91dict.com/img2/84f4ea61534669b6854642f23160d5ba/213.jpg?x-oss-process=image/resize,m_fill,h_494,w_800&auth_key=1587168000-0-0-1cfa14fa3de3e35c6e9ed27e06731954'"
      ]
     },
     "execution_count": 62,
     "metadata": {},
     "output_type": "execute_result"
    },
    {
     "data": {
      "text/plain": [
       "'https://mp3.91dict.com/mp32/84f4ea61534669b6854642f23160d5ba/213.mp3?auth_key=1587168000-0-0-f42806208e90835d6783326617a39415'"
      ]
     },
     "execution_count": 62,
     "metadata": {},
     "output_type": "execute_result"
    },
    {
     "data": {
      "text/plain": [
       "'If you want a desk job, then sit at your desk.'"
      ]
     },
     "execution_count": 62,
     "metadata": {},
     "output_type": "execute_result"
    },
    {
     "name": "stdout",
     "output_type": "stream",
     "text": [
      "1\n"
     ]
    },
    {
     "data": {
      "text/plain": [
       "'https://img.91dict.com/img2/230afce0f9621492264bb5b4c543b72b/460.jpg?x-oss-process=image/resize,m_fill,h_494,w_800&auth_key=1587168000-0-0-35d839777bd0c2790370ae8c9e3bb768'"
      ]
     },
     "execution_count": 62,
     "metadata": {},
     "output_type": "execute_result"
    },
    {
     "data": {
      "text/plain": [
       "'https://mp3.91dict.com/mp32/230afce0f9621492264bb5b4c543b72b/460.mp3?auth_key=1587168000-0-0-82c2f84aaee9f9d35f335ac21ba778e5'"
      ]
     },
     "execution_count": 62,
     "metadata": {},
     "output_type": "execute_result"
    },
    {
     "data": {
      "text/plain": [
       "'And as winner of the bet, your desk is my desk.'"
      ]
     },
     "execution_count": 62,
     "metadata": {},
     "output_type": "execute_result"
    },
    {
     "name": "stdout",
     "output_type": "stream",
     "text": [
      "2\n"
     ]
    },
    {
     "data": {
      "text/plain": [
       "'https://img.91dict.com/img2/9854930345aaf869383c471028d004e5/92.jpg?x-oss-process=image/resize,m_fill,h_494,w_800&auth_key=1587168000-0-0-2ab8a91e849993c7f1e4b623c1a3d00c'"
      ]
     },
     "execution_count": 62,
     "metadata": {},
     "output_type": "execute_result"
    },
    {
     "data": {
      "text/plain": [
       "'https://mp3.91dict.com/mp32/9854930345aaf869383c471028d004e5/92.mp3?auth_key=1587168000-0-0-039c315f4e0e88e3c46119ea0bc2ca5e'"
      ]
     },
     "execution_count": 62,
     "metadata": {},
     "output_type": "execute_result"
    },
    {
     "data": {
      "text/plain": [
       "'Why is silent Arnold sitting at your desk?'"
      ]
     },
     "execution_count": 62,
     "metadata": {},
     "output_type": "execute_result"
    },
    {
     "name": "stdout",
     "output_type": "stream",
     "text": [
      "3\n"
     ]
    },
    {
     "data": {
      "text/plain": [
       "'https://img.91dict.com/img2/aee6cdf948a818b9d07595de20f1b5a9/394.jpg?x-oss-process=image/resize,m_fill,h_494,w_800&auth_key=1587168000-0-0-ee4e68e4210c60d9b1823ba25eb78efb'"
      ]
     },
     "execution_count": 62,
     "metadata": {},
     "output_type": "execute_result"
    },
    {
     "data": {
      "text/plain": [
       "'https://mp3.91dict.com/mp32/aee6cdf948a818b9d07595de20f1b5a9/394.mp3?auth_key=1587168000-0-0-dd655a0c724c4f2365f22b9dfb59af66'"
      ]
     },
     "execution_count": 62,
     "metadata": {},
     "output_type": "execute_result"
    },
    {
     "data": {
      "text/plain": [
       "'and I was back at my desk by 2:00.'"
      ]
     },
     "execution_count": 62,
     "metadata": {},
     "output_type": "execute_result"
    },
    {
     "name": "stdout",
     "output_type": "stream",
     "text": [
      "4\n"
     ]
    },
    {
     "data": {
      "text/plain": [
       "'https://img.91dict.com/img2/4dbfc9d5fdc40c9170aaf54fbaccdcae/85.jpg?x-oss-process=image/resize,m_fill,h_494,w_800&auth_key=1587168000-0-0-36f556ebda3f1c3ec37b2d5b03872096'"
      ]
     },
     "execution_count": 62,
     "metadata": {},
     "output_type": "execute_result"
    },
    {
     "data": {
      "text/plain": [
       "'https://mp3.91dict.com/mp32/4dbfc9d5fdc40c9170aaf54fbaccdcae/85.mp3?auth_key=1587168000-0-0-3fe3c13d412855b9613b4c7aa76f7bc2'"
      ]
     },
     "execution_count": 62,
     "metadata": {},
     "output_type": "execute_result"
    },
    {
     "data": {
      "text/plain": [
       "\"And on Caroline's desk, but, eh, no big deal.\""
      ]
     },
     "execution_count": 62,
     "metadata": {},
     "output_type": "execute_result"
    },
    {
     "name": "stdout",
     "output_type": "stream",
     "text": [
      "5\n"
     ]
    },
    {
     "data": {
      "text/plain": [
       "'https://img.91dict.com/img2/145a3b0237c5d4f41e9e4c4a8356b403/151.jpg?x-oss-process=image/resize,m_fill,h_494,w_800&auth_key=1587168000-0-0-e4b32b868b7ce5e61447908fedba4a09'"
      ]
     },
     "execution_count": 62,
     "metadata": {},
     "output_type": "execute_result"
    },
    {
     "data": {
      "text/plain": [
       "'https://mp3.91dict.com/mp32/145a3b0237c5d4f41e9e4c4a8356b403/151.mp3?auth_key=1587168000-0-0-4f1c9c27379e2ead27365c989be057d3'"
      ]
     },
     "execution_count": 62,
     "metadata": {},
     "output_type": "execute_result"
    },
    {
     "data": {
      "text/plain": [
       "'I was sitting a gray desk, in a gray chair,'"
      ]
     },
     "execution_count": 62,
     "metadata": {},
     "output_type": "execute_result"
    }
   ],
   "source": [
    "# 用find的话不好判断是否存在\n",
    "tmp = soup.find_all(id=\"flexslider_2\")[0].find_all(\"ul\")[0].find_all(\"li\")\n",
    "for i,x in enumerate(tmp) :\n",
    "    print(i)\n",
    "    imgMainbox = x.find(class_=\"imgMainbox\")\n",
    "    imgMainbox.find(\"img\")[\"src\"]\n",
    "    imgMainbox.find(\"audio\")[\"src\"]\n",
    "    imgMainbox.find(class_=\"mBottom\").text.strip()"
   ]
  }
 ],
 "metadata": {
  "kernelspec": {
   "display_name": "Python 3",
   "language": "python",
   "name": "python3"
  },
  "language_info": {
   "codemirror_mode": {
    "name": "ipython",
    "version": 3
   },
   "file_extension": ".py",
   "mimetype": "text/x-python",
   "name": "python",
   "nbconvert_exporter": "python",
   "pygments_lexer": "ipython3",
   "version": "3.6.10"
  }
 },
 "nbformat": 4,
 "nbformat_minor": 4
}
